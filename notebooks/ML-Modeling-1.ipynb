{
 "cells": [
  {
   "cell_type": "markdown",
   "id": "baking-liabilities",
   "metadata": {},
   "source": [
    "# Modelling Data Using Machine Learning Techniques"
   ]
  },
  {
   "cell_type": "code",
   "execution_count": 1,
   "id": "essential-producer",
   "metadata": {},
   "outputs": [],
   "source": [
    "import pandas as pd\n",
    "import numpy as np\n",
    "import matplotlib.pyplot as plt\n",
    "import seaborn as sns\n",
    "from sklearn.model_selection import train_test_split\n",
    "from sklearn.model_selection import GridSearchCV\n",
    "from sklearn.pipeline import Pipeline, make_pipeline\n",
    "from datetime import date, datetime"
   ]
  },
  {
   "cell_type": "markdown",
   "id": "bacterial-dictionary",
   "metadata": {},
   "source": [
    "### Importing Data"
   ]
  },
  {
   "cell_type": "code",
   "execution_count": 2,
   "id": "complex-tulsa",
   "metadata": {},
   "outputs": [
    {
     "data": {
      "text/html": [
       "<div>\n",
       "<style scoped>\n",
       "    .dataframe tbody tr th:only-of-type {\n",
       "        vertical-align: middle;\n",
       "    }\n",
       "\n",
       "    .dataframe tbody tr th {\n",
       "        vertical-align: top;\n",
       "    }\n",
       "\n",
       "    .dataframe thead th {\n",
       "        text-align: right;\n",
       "    }\n",
       "</style>\n",
       "<table border=\"1\" class=\"dataframe\">\n",
       "  <thead>\n",
       "    <tr style=\"text-align: right;\">\n",
       "      <th></th>\n",
       "      <th>spotify_id</th>\n",
       "      <th>label_studio</th>\n",
       "      <th>content_provider_name</th>\n",
       "      <th>major_label</th>\n",
       "      <th>original_release_date</th>\n",
       "      <th>genre_name</th>\n",
       "      <th>isrc_weekly_streams</th>\n",
       "      <th>artist_name</th>\n",
       "      <th>song_name</th>\n",
       "      <th>danceability</th>\n",
       "      <th>...</th>\n",
       "      <th>loudness</th>\n",
       "      <th>mode</th>\n",
       "      <th>speechiness</th>\n",
       "      <th>acousticness</th>\n",
       "      <th>instrumentalness</th>\n",
       "      <th>liveness</th>\n",
       "      <th>valence</th>\n",
       "      <th>tempo</th>\n",
       "      <th>duration_ms</th>\n",
       "      <th>spotify_popularity</th>\n",
       "    </tr>\n",
       "  </thead>\n",
       "  <tbody>\n",
       "    <tr>\n",
       "      <th>0</th>\n",
       "      <td>3eekarcy7kvN4yt5ZFzltW</td>\n",
       "      <td>Sony Music Labels Inc.</td>\n",
       "      <td>BMG</td>\n",
       "      <td>Sony</td>\n",
       "      <td>4/8/2020</td>\n",
       "      <td>Pop</td>\n",
       "      <td>6988609.870</td>\n",
       "      <td>Travis Scott</td>\n",
       "      <td>Highest in the Room</td>\n",
       "      <td>0.598</td>\n",
       "      <td>...</td>\n",
       "      <td>-8.764</td>\n",
       "      <td>0</td>\n",
       "      <td>0.0317</td>\n",
       "      <td>0.05460</td>\n",
       "      <td>0.000006</td>\n",
       "      <td>0.210</td>\n",
       "      <td>0.0605</td>\n",
       "      <td>76.469</td>\n",
       "      <td>175721</td>\n",
       "      <td>85</td>\n",
       "    </tr>\n",
       "    <tr>\n",
       "      <th>1</th>\n",
       "      <td>3frUvGrmGcay91lvFbOgsN</td>\n",
       "      <td>Kygo Music</td>\n",
       "      <td>Ultra</td>\n",
       "      <td>Sony</td>\n",
       "      <td>3/27/2020</td>\n",
       "      <td>Dance</td>\n",
       "      <td>5405228.712</td>\n",
       "      <td>Kygo, Zara Larsson &amp; Tyga</td>\n",
       "      <td>Like It Is</td>\n",
       "      <td>0.794</td>\n",
       "      <td>...</td>\n",
       "      <td>-6.759</td>\n",
       "      <td>1</td>\n",
       "      <td>0.1140</td>\n",
       "      <td>0.12100</td>\n",
       "      <td>0.000009</td>\n",
       "      <td>0.227</td>\n",
       "      <td>0.3600</td>\n",
       "      <td>105.024</td>\n",
       "      <td>183067</td>\n",
       "      <td>71</td>\n",
       "    </tr>\n",
       "    <tr>\n",
       "      <th>2</th>\n",
       "      <td>6tCssnvTUREcperDOUTqvA</td>\n",
       "      <td>JYP Entertainment</td>\n",
       "      <td>JYPEntertainment</td>\n",
       "      <td>Other</td>\n",
       "      <td>3/9/2020</td>\n",
       "      <td>Dance</td>\n",
       "      <td>3858453.691</td>\n",
       "      <td>ITZY</td>\n",
       "      <td>WANNABE</td>\n",
       "      <td>0.809</td>\n",
       "      <td>...</td>\n",
       "      <td>-4.410</td>\n",
       "      <td>0</td>\n",
       "      <td>0.0617</td>\n",
       "      <td>0.00795</td>\n",
       "      <td>0.000179</td>\n",
       "      <td>0.181</td>\n",
       "      <td>0.6400</td>\n",
       "      <td>122.035</td>\n",
       "      <td>191242</td>\n",
       "      <td>77</td>\n",
       "    </tr>\n",
       "    <tr>\n",
       "      <th>3</th>\n",
       "      <td>4tcPIwy0UvLYjhXLrMyx89</td>\n",
       "      <td>Armada Music</td>\n",
       "      <td>Armada</td>\n",
       "      <td>Other</td>\n",
       "      <td>3/12/2020</td>\n",
       "      <td>House</td>\n",
       "      <td>2301643.868</td>\n",
       "      <td>Endor</td>\n",
       "      <td>Pump It Up</td>\n",
       "      <td>0.898</td>\n",
       "      <td>...</td>\n",
       "      <td>-7.255</td>\n",
       "      <td>1</td>\n",
       "      <td>0.2250</td>\n",
       "      <td>0.20700</td>\n",
       "      <td>0.000093</td>\n",
       "      <td>0.061</td>\n",
       "      <td>0.6530</td>\n",
       "      <td>129.047</td>\n",
       "      <td>150635</td>\n",
       "      <td>61</td>\n",
       "    </tr>\n",
       "    <tr>\n",
       "      <th>4</th>\n",
       "      <td>3uc8AGNL0KbvISIrjnfRvN</td>\n",
       "      <td>Lauv</td>\n",
       "      <td>trafficinc</td>\n",
       "      <td>Other</td>\n",
       "      <td>3/6/2020</td>\n",
       "      <td>Pop</td>\n",
       "      <td>2193457.126</td>\n",
       "      <td>Lauv</td>\n",
       "      <td>Mean It (feat. Lany)</td>\n",
       "      <td>0.746</td>\n",
       "      <td>...</td>\n",
       "      <td>-8.543</td>\n",
       "      <td>1</td>\n",
       "      <td>0.0872</td>\n",
       "      <td>0.04070</td>\n",
       "      <td>0.000000</td>\n",
       "      <td>0.172</td>\n",
       "      <td>0.3360</td>\n",
       "      <td>95.998</td>\n",
       "      <td>232853</td>\n",
       "      <td>73</td>\n",
       "    </tr>\n",
       "  </tbody>\n",
       "</table>\n",
       "<p>5 rows × 22 columns</p>\n",
       "</div>"
      ],
      "text/plain": [
       "               spotify_id            label_studio content_provider_name  \\\n",
       "0  3eekarcy7kvN4yt5ZFzltW  Sony Music Labels Inc.                   BMG   \n",
       "1  3frUvGrmGcay91lvFbOgsN              Kygo Music                 Ultra   \n",
       "2  6tCssnvTUREcperDOUTqvA       JYP Entertainment      JYPEntertainment   \n",
       "3  4tcPIwy0UvLYjhXLrMyx89            Armada Music                Armada   \n",
       "4  3uc8AGNL0KbvISIrjnfRvN                    Lauv            trafficinc   \n",
       "\n",
       "  major_label original_release_date genre_name  isrc_weekly_streams  \\\n",
       "0        Sony              4/8/2020        Pop          6988609.870   \n",
       "1        Sony             3/27/2020      Dance          5405228.712   \n",
       "2       Other              3/9/2020      Dance          3858453.691   \n",
       "3       Other             3/12/2020      House          2301643.868   \n",
       "4       Other              3/6/2020        Pop          2193457.126   \n",
       "\n",
       "                 artist_name             song_name  danceability  ...  \\\n",
       "0               Travis Scott   Highest in the Room         0.598  ...   \n",
       "1  Kygo, Zara Larsson & Tyga            Like It Is         0.794  ...   \n",
       "2                       ITZY               WANNABE         0.809  ...   \n",
       "3                      Endor            Pump It Up         0.898  ...   \n",
       "4                       Lauv  Mean It (feat. Lany)         0.746  ...   \n",
       "\n",
       "   loudness  mode  speechiness  acousticness  instrumentalness  liveness  \\\n",
       "0    -8.764     0       0.0317       0.05460          0.000006     0.210   \n",
       "1    -6.759     1       0.1140       0.12100          0.000009     0.227   \n",
       "2    -4.410     0       0.0617       0.00795          0.000179     0.181   \n",
       "3    -7.255     1       0.2250       0.20700          0.000093     0.061   \n",
       "4    -8.543     1       0.0872       0.04070          0.000000     0.172   \n",
       "\n",
       "   valence    tempo  duration_ms  spotify_popularity  \n",
       "0   0.0605   76.469       175721                  85  \n",
       "1   0.3600  105.024       183067                  71  \n",
       "2   0.6400  122.035       191242                  77  \n",
       "3   0.6530  129.047       150635                  61  \n",
       "4   0.3360   95.998       232853                  73  \n",
       "\n",
       "[5 rows x 22 columns]"
      ]
     },
     "execution_count": 2,
     "metadata": {},
     "output_type": "execute_result"
    }
   ],
   "source": [
    "umg_data = pd.read_csv('final_merged_data.csv')\n",
    "umg_data.head()"
   ]
  },
  {
   "cell_type": "code",
   "execution_count": 3,
   "id": "contained-royal",
   "metadata": {},
   "outputs": [],
   "source": [
    "## creating a new outcome variable called popularity\n",
    "# For this variable a song is popular if it scores above 30 for spotify_popularity index\n",
    "umg_data.loc[umg_data['spotify_popularity'] > 50, 'popular'] = 'Yes'\n",
    "umg_data.loc[umg_data['spotify_popularity'] <= 50, 'popular'] = 'No'"
   ]
  },
  {
   "cell_type": "code",
   "execution_count": 4,
   "id": "freelance-license",
   "metadata": {},
   "outputs": [],
   "source": [
    "## Creating an age variable\n",
    "# the age variable calculates the age of the song from today's date\n",
    "umg_data['original_release_date'] = pd.to_datetime(umg_data['original_release_date'])\n",
    "umg_data['today_date'] = date.today()\n",
    "umg_data['today_date'] = pd.to_datetime(umg_data['today_date'])\n",
    "umg_data['age'] = umg_data['today_date'].sub(umg_data['original_release_date'], axis=0)\n",
    "umg_data['age'] = (umg_data.age/np.timedelta64(1, 'D')).astype(int)"
   ]
  },
  {
   "cell_type": "code",
   "execution_count": 5,
   "id": "acute-hammer",
   "metadata": {},
   "outputs": [
    {
     "data": {
      "text/html": [
       "<div>\n",
       "<style scoped>\n",
       "    .dataframe tbody tr th:only-of-type {\n",
       "        vertical-align: middle;\n",
       "    }\n",
       "\n",
       "    .dataframe tbody tr th {\n",
       "        vertical-align: top;\n",
       "    }\n",
       "\n",
       "    .dataframe thead th {\n",
       "        text-align: right;\n",
       "    }\n",
       "</style>\n",
       "<table border=\"1\" class=\"dataframe\">\n",
       "  <thead>\n",
       "    <tr style=\"text-align: right;\">\n",
       "      <th></th>\n",
       "      <th>danceability</th>\n",
       "      <th>energy</th>\n",
       "      <th>key</th>\n",
       "      <th>loudness</th>\n",
       "      <th>speechiness</th>\n",
       "      <th>acousticness</th>\n",
       "      <th>instrumentalness</th>\n",
       "      <th>liveness</th>\n",
       "      <th>valence</th>\n",
       "      <th>tempo</th>\n",
       "      <th>duration_ms</th>\n",
       "      <th>age</th>\n",
       "      <th>popular</th>\n",
       "    </tr>\n",
       "  </thead>\n",
       "  <tbody>\n",
       "    <tr>\n",
       "      <th>0</th>\n",
       "      <td>0.598</td>\n",
       "      <td>0.427</td>\n",
       "      <td>7</td>\n",
       "      <td>-8.764</td>\n",
       "      <td>0.0317</td>\n",
       "      <td>0.05460</td>\n",
       "      <td>0.000006</td>\n",
       "      <td>0.210</td>\n",
       "      <td>0.0605</td>\n",
       "      <td>76.469</td>\n",
       "      <td>175721</td>\n",
       "      <td>455</td>\n",
       "      <td>Yes</td>\n",
       "    </tr>\n",
       "    <tr>\n",
       "      <th>1</th>\n",
       "      <td>0.794</td>\n",
       "      <td>0.728</td>\n",
       "      <td>1</td>\n",
       "      <td>-6.759</td>\n",
       "      <td>0.1140</td>\n",
       "      <td>0.12100</td>\n",
       "      <td>0.000009</td>\n",
       "      <td>0.227</td>\n",
       "      <td>0.3600</td>\n",
       "      <td>105.024</td>\n",
       "      <td>183067</td>\n",
       "      <td>467</td>\n",
       "      <td>Yes</td>\n",
       "    </tr>\n",
       "    <tr>\n",
       "      <th>2</th>\n",
       "      <td>0.809</td>\n",
       "      <td>0.911</td>\n",
       "      <td>6</td>\n",
       "      <td>-4.410</td>\n",
       "      <td>0.0617</td>\n",
       "      <td>0.00795</td>\n",
       "      <td>0.000179</td>\n",
       "      <td>0.181</td>\n",
       "      <td>0.6400</td>\n",
       "      <td>122.035</td>\n",
       "      <td>191242</td>\n",
       "      <td>485</td>\n",
       "      <td>Yes</td>\n",
       "    </tr>\n",
       "    <tr>\n",
       "      <th>3</th>\n",
       "      <td>0.898</td>\n",
       "      <td>0.893</td>\n",
       "      <td>1</td>\n",
       "      <td>-7.255</td>\n",
       "      <td>0.2250</td>\n",
       "      <td>0.20700</td>\n",
       "      <td>0.000093</td>\n",
       "      <td>0.061</td>\n",
       "      <td>0.6530</td>\n",
       "      <td>129.047</td>\n",
       "      <td>150635</td>\n",
       "      <td>482</td>\n",
       "      <td>Yes</td>\n",
       "    </tr>\n",
       "    <tr>\n",
       "      <th>4</th>\n",
       "      <td>0.746</td>\n",
       "      <td>0.450</td>\n",
       "      <td>7</td>\n",
       "      <td>-8.543</td>\n",
       "      <td>0.0872</td>\n",
       "      <td>0.04070</td>\n",
       "      <td>0.000000</td>\n",
       "      <td>0.172</td>\n",
       "      <td>0.3360</td>\n",
       "      <td>95.998</td>\n",
       "      <td>232853</td>\n",
       "      <td>488</td>\n",
       "      <td>Yes</td>\n",
       "    </tr>\n",
       "  </tbody>\n",
       "</table>\n",
       "</div>"
      ],
      "text/plain": [
       "   danceability  energy  key  loudness  speechiness  acousticness  \\\n",
       "0         0.598   0.427    7    -8.764       0.0317       0.05460   \n",
       "1         0.794   0.728    1    -6.759       0.1140       0.12100   \n",
       "2         0.809   0.911    6    -4.410       0.0617       0.00795   \n",
       "3         0.898   0.893    1    -7.255       0.2250       0.20700   \n",
       "4         0.746   0.450    7    -8.543       0.0872       0.04070   \n",
       "\n",
       "   instrumentalness  liveness  valence    tempo  duration_ms  age popular  \n",
       "0          0.000006     0.210   0.0605   76.469       175721  455     Yes  \n",
       "1          0.000009     0.227   0.3600  105.024       183067  467     Yes  \n",
       "2          0.000179     0.181   0.6400  122.035       191242  485     Yes  \n",
       "3          0.000093     0.061   0.6530  129.047       150635  482     Yes  \n",
       "4          0.000000     0.172   0.3360   95.998       232853  488     Yes  "
      ]
     },
     "execution_count": 5,
     "metadata": {},
     "output_type": "execute_result"
    }
   ],
   "source": [
    "umg_data.columns\n",
    "umg_data_model = umg_data[[\n",
    "    'danceability', 'energy', 'key', 'loudness', 'speechiness', 'acousticness', \n",
    "         'instrumentalness', 'liveness', 'valence', 'tempo', 'duration_ms', 'age', 'popular'\n",
    "         ]]\n",
    "umg_data_model.head()"
   ]
  },
  {
   "cell_type": "code",
   "execution_count": 6,
   "id": "seeing-crowd",
   "metadata": {},
   "outputs": [
    {
     "name": "stdout",
     "output_type": "stream",
     "text": [
      "<class 'pandas.core.frame.DataFrame'>\n",
      "RangeIndex: 46961 entries, 0 to 46960\n",
      "Data columns (total 13 columns):\n",
      " #   Column            Non-Null Count  Dtype  \n",
      "---  ------            --------------  -----  \n",
      " 0   danceability      46961 non-null  float64\n",
      " 1   energy            46961 non-null  float64\n",
      " 2   key               46961 non-null  int64  \n",
      " 3   loudness          46961 non-null  float64\n",
      " 4   speechiness       46961 non-null  float64\n",
      " 5   acousticness      46961 non-null  float64\n",
      " 6   instrumentalness  46961 non-null  float64\n",
      " 7   liveness          46961 non-null  float64\n",
      " 8   valence           46961 non-null  float64\n",
      " 9   tempo             46961 non-null  float64\n",
      " 10  duration_ms       46961 non-null  int64  \n",
      " 11  age               46961 non-null  int32  \n",
      " 12  popular           46961 non-null  object \n",
      "dtypes: float64(9), int32(1), int64(2), object(1)\n",
      "memory usage: 4.5+ MB\n"
     ]
    }
   ],
   "source": [
    "umg_data_model.info()"
   ]
  },
  {
   "cell_type": "markdown",
   "id": "federal-literature",
   "metadata": {},
   "source": [
    "## KNN model"
   ]
  },
  {
   "cell_type": "code",
   "execution_count": 7,
   "id": "nasty-finder",
   "metadata": {},
   "outputs": [],
   "source": [
    "#importing libraries\n",
    "from sklearn.neighbors import KNeighborsClassifier\n",
    "from sklearn.metrics import classification_report, confusion_matrix, accuracy_score\n",
    "from sklearn.metrics import roc_auc_score\n",
    "from sklearn.preprocessing import StandardScaler\n",
    "from sklearn.preprocessing import MinMaxScaler"
   ]
  },
  {
   "cell_type": "code",
   "execution_count": 8,
   "id": "empty-swift",
   "metadata": {
    "scrolled": true
   },
   "outputs": [
    {
     "name": "stderr",
     "output_type": "stream",
     "text": [
      "C:\\ProgramData\\Anaconda3\\lib\\site-packages\\seaborn\\_decorators.py:36: FutureWarning: Pass the following variable as a keyword arg: x. From version 0.12, the only valid positional argument will be `data`, and passing other arguments without an explicit keyword will result in an error or misinterpretation.\n",
      "  warnings.warn(\n"
     ]
    },
    {
     "data": {
      "image/png": "[encoded data removed]",
      "text/plain": [
       "<Figure size 360x288 with 1 Axes>"
      ]
     },
     "metadata": {
      "needs_background": "light"
     },
     "output_type": "display_data"
    }
   ],
   "source": [
    "#checking distribution of popular and non-popular songs\n",
    "plt.figure(figsize=(5,4))\n",
    "sns.countplot(umg_data_model['popular']);"
   ]
  },
  {
   "cell_type": "markdown",
   "id": "satisfied-sally",
   "metadata": {},
   "source": [
    "From the above chart, it looks like there is an unequal distribution of popular and non-popular songs. "
   ]
  },
  {
   "cell_type": "markdown",
   "id": "quarterly-source",
   "metadata": {},
   "source": [
    "### splitting data into training and test sets"
   ]
  },
  {
   "cell_type": "code",
   "execution_count": 9,
   "id": "split-dining",
   "metadata": {},
   "outputs": [],
   "source": [
    "features = ['danceability', 'energy', 'key', 'loudness', 'speechiness', 'acousticness', \n",
    "         'instrumentalness', 'liveness', 'valence', 'tempo', 'duration_ms', 'age']\n",
    "\n",
    "X = umg_data_model[features]\n",
    "y = umg_data_model['popular']\n",
    "\n",
    "X_train, X_test, y_train, y_test = train_test_split(X, y, test_size=0.2, random_state=20)\n",
    "\n",
    "#scaling the features\n",
    "X_train = StandardScaler().fit_transform(X_train)\n",
    "X_test = StandardScaler().fit_transform(X_test)"
   ]
  },
  {
   "cell_type": "code",
   "execution_count": 10,
   "id": "indie-separate",
   "metadata": {},
   "outputs": [
    {
     "data": {
      "text/plain": [
       "KNeighborsClassifier(n_neighbors=8)"
      ]
     },
     "execution_count": 10,
     "metadata": {},
     "output_type": "execute_result"
    }
   ],
   "source": [
    "# fitting the model\n",
    "knn = KNeighborsClassifier(n_neighbors=8)\n",
    "knn.fit(X_train, y_train)"
   ]
  },
  {
   "cell_type": "code",
   "execution_count": 11,
   "id": "generic-spotlight",
   "metadata": {},
   "outputs": [],
   "source": [
    "y_pred = knn.predict(X_test)"
   ]
  },
  {
   "cell_type": "code",
   "execution_count": 12,
   "id": "nutritional-decision",
   "metadata": {},
   "outputs": [
    {
     "name": "stdout",
     "output_type": "stream",
     "text": [
      "Confusion Matrix:\n",
      "[[8661    5]\n",
      " [ 725    2]]\n",
      "\n",
      "Classification Report:\n",
      "              precision    recall  f1-score   support\n",
      "\n",
      "          No       0.92      1.00      0.96      8666\n",
      "         Yes       0.29      0.00      0.01       727\n",
      "\n",
      "    accuracy                           0.92      9393\n",
      "   macro avg       0.60      0.50      0.48      9393\n",
      "weighted avg       0.87      0.92      0.89      9393\n",
      "\n",
      "Accuracy:  0.9222825508357287\n"
     ]
    }
   ],
   "source": [
    "result = confusion_matrix(y_test, y_pred)\n",
    "print(\"Confusion Matrix:\")\n",
    "print(result)\n",
    "result2 = classification_report(y_test, y_pred)\n",
    "print('\\nClassification Report:')\n",
    "print(result2)\n",
    "result3 = accuracy_score(y_test, y_pred)\n",
    "print(\"Accuracy: \", result3)"
   ]
  },
  {
   "cell_type": "markdown",
   "id": "regular-think",
   "metadata": {},
   "source": [
    "Although the accuracy of our model is about 92 percent. The accuracy canbe misleading. For UMG, the usefulness of our model would be in predicting the few songs that have the potential to be popular. The model above does well in predicting None popular songs since they are the most in our data, but does poorly in predicting popular songs since they are rare. We need to improve to predict the rare popular songs."
   ]
  },
  {
   "cell_type": "markdown",
   "id": "herbal-settle",
   "metadata": {},
   "source": [
    "### Trying SMOTE to oversample rare class"
   ]
  },
  {
   "cell_type": "code",
   "execution_count": 13,
   "id": "opposite-questionnaire",
   "metadata": {},
   "outputs": [],
   "source": [
    "from imblearn.over_sampling import SMOTE\n",
    "from imblearn.under_sampling import RandomUnderSampler"
   ]
  },
  {
   "cell_type": "code",
   "execution_count": 14,
   "id": "revised-prefix",
   "metadata": {},
   "outputs": [],
   "source": [
    "over = SMOTE(sampling_strategy=0.3)\n",
    "under = RandomUnderSampler(sampling_strategy=0.5)\n",
    "X,y = over.fit_resample(X,y)\n",
    "X,y = under.fit_resample(X,y)"
   ]
  },
  {
   "cell_type": "code",
   "execution_count": 15,
   "id": "deluxe-nebraska",
   "metadata": {
    "scrolled": true
   },
   "outputs": [
    {
     "name": "stderr",
     "output_type": "stream",
     "text": [
      "C:\\ProgramData\\Anaconda3\\lib\\site-packages\\seaborn\\_decorators.py:36: FutureWarning: Pass the following variable as a keyword arg: x. From version 0.12, the only valid positional argument will be `data`, and passing other arguments without an explicit keyword will result in an error or misinterpretation.\n",
      "  warnings.warn(\n"
     ]
    },
    {
     "data": {
      "image/png": "[encoded data removed]",
      "text/plain": [
       "<Figure size 360x288 with 1 Axes>"
      ]
     },
     "metadata": {
      "needs_background": "light"
     },
     "output_type": "display_data"
    }
   ],
   "source": [
    "plt.figure(figsize=(5,4))\n",
    "sns.countplot(y);"
   ]
  },
  {
   "cell_type": "markdown",
   "id": "alone-sucking",
   "metadata": {},
   "source": [
    "### Retraining Knn model of Resampled Data"
   ]
  },
  {
   "cell_type": "code",
   "execution_count": 16,
   "id": "worth-broadcast",
   "metadata": {
    "scrolled": true
   },
   "outputs": [
    {
     "name": "stdout",
     "output_type": "stream",
     "text": [
      "Confusion Matrix:\n",
      "[[4384  866]\n",
      " [1235 1321]]\n",
      "\n",
      "Classification Report:\n",
      "              precision    recall  f1-score   support\n",
      "\n",
      "          No       0.78      0.84      0.81      5250\n",
      "         Yes       0.60      0.52      0.56      2556\n",
      "\n",
      "    accuracy                           0.73      7806\n",
      "   macro avg       0.69      0.68      0.68      7806\n",
      "weighted avg       0.72      0.73      0.72      7806\n",
      "\n",
      "Accuracy:  0.7308480655905714\n"
     ]
    }
   ],
   "source": [
    "X_train, X_test, y_train, y_test = train_test_split(X, y, test_size=0.2, random_state=20)\n",
    "\n",
    "#scaling the features\n",
    "X_train = StandardScaler().fit_transform(X_train)\n",
    "X_test = StandardScaler().fit_transform(X_test)\n",
    "\n",
    "knn = KNeighborsClassifier(n_neighbors=8)\n",
    "knn.fit(X_train, y_train)\n",
    "\n",
    "y_pred = knn.predict(X_test)\n",
    "\n",
    "result = confusion_matrix(y_test, y_pred)\n",
    "print(\"Confusion Matrix:\")\n",
    "print(result)\n",
    "result2 = classification_report(y_test, y_pred)\n",
    "print('\\nClassification Report:')\n",
    "print(result2)\n",
    "result3 = accuracy_score(y_test, y_pred)\n",
    "print(\"Accuracy: \", result3)"
   ]
  },
  {
   "cell_type": "markdown",
   "id": "offshore-kidney",
   "metadata": {},
   "source": [
    "Although our accuracy reduced, the precision level, recall and f1-score improved for the Rare popular songs. Now we can predict the Rare popular songs better than before. It would be instructive to try other models like decision trees using our newly resample data and see how well it does."
   ]
  },
  {
   "cell_type": "markdown",
   "id": "experienced-hospital",
   "metadata": {},
   "source": [
    "### Hyperperameter Tuning"
   ]
  },
  {
   "cell_type": "markdown",
   "id": "natural-distributor",
   "metadata": {},
   "source": [
    "In the hyperparameter tuning phase, we will try to find the best leaf_size, n_neighbors, p and see how if we can find the optimal that can improve our model"
   ]
  },
  {
   "cell_type": "code",
   "execution_count": 17,
   "id": "expensive-madness",
   "metadata": {},
   "outputs": [],
   "source": [
    "leaf_size = list(range(1,50))\n",
    "n_neighbors = list(range(1,25))\n",
    "p=[1,2]"
   ]
  },
  {
   "cell_type": "code",
   "execution_count": 18,
   "id": "solid-situation",
   "metadata": {
    "scrolled": true
   },
   "outputs": [
    {
     "name": "stdout",
     "output_type": "stream",
     "text": [
      "Best leaf_size: 2\n",
      "Best p: 1\n",
      "Best n_neighbors: 2\n"
     ]
    }
   ],
   "source": [
    "hyperparams = dict(leaf_size=leaf_size, n_neighbors = n_neighbors, p=p)\n",
    "\n",
    "#instantiating knn\n",
    "knn_2 = KNeighborsClassifier()\n",
    "\n",
    "# using gridsearch and doing 10 ten fold cross validation\n",
    "clf = GridSearchCV(knn_2, hyperparams, cv=10)\n",
    "\n",
    "#fitting model\n",
    "best_model = clf.fit(X,y)\n",
    "\n",
    "#Showing results\n",
    "print('Best leaf_size:', best_model.best_estimator_.get_params()['leaf_size'])\n",
    "print('Best p:', best_model.best_estimator_.get_params()['p'])\n",
    "print('Best n_neighbors:', best_model.best_estimator_.get_params()['n_neighbors'])"
   ]
  },
  {
   "cell_type": "code",
   "execution_count": 19,
   "id": "vocational-marble",
   "metadata": {},
   "outputs": [
    {
     "name": "stdout",
     "output_type": "stream",
     "text": [
      "Confusion Matrix:\n",
      "[[4601  649]\n",
      " [1011 1545]]\n",
      "\n",
      "Classification Report:\n",
      "              precision    recall  f1-score   support\n",
      "\n",
      "          No       0.82      0.88      0.85      5250\n",
      "         Yes       0.70      0.60      0.65      2556\n",
      "\n",
      "    accuracy                           0.79      7806\n",
      "   macro avg       0.76      0.74      0.75      7806\n",
      "weighted avg       0.78      0.79      0.78      7806\n",
      "\n",
      "Accuracy:  0.7873430694337689\n"
     ]
    }
   ],
   "source": [
    "## re-writing model using the new parameters\n",
    "knn = KNeighborsClassifier(n_neighbors=2, leaf_size=2, p=1)\n",
    "knn.fit(X_train, y_train)\n",
    "\n",
    "y_pred = knn.predict(X_test)\n",
    "\n",
    "result = confusion_matrix(y_test, y_pred)\n",
    "print(\"Confusion Matrix:\")\n",
    "print(result)\n",
    "result2 = classification_report(y_test, y_pred)\n",
    "print('\\nClassification Report:')\n",
    "print(result2)\n",
    "result3 = accuracy_score(y_test, y_pred)\n",
    "print(\"Accuracy: \", result3)"
   ]
  }
 ],
 "metadata": {
  "kernelspec": {
   "display_name": "Python 3",
   "language": "python",
   "name": "python3"
  },
  "language_info": {
   "codemirror_mode": {
    "name": "ipython",
    "version": 3
   },
   "file_extension": ".py",
   "mimetype": "text/x-python",
   "name": "python",
   "nbconvert_exporter": "python",
   "pygments_lexer": "ipython3",
   "version": "3.8.5"
  }
 },
 "nbformat": 4,
 "nbformat_minor": 5
}

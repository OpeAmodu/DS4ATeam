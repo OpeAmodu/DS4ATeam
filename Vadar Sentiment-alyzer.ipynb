{
 "cells": [
  {
   "cell_type": "code",
   "execution_count": 5,
   "metadata": {
    "collapsed": true
   },
   "outputs": [
    {
     "name": "stderr",
     "output_type": "stream",
     "text": [
      "ERROR: Could not find a version that satisfies the requirement vadarSentiment (from versions: none)\n",
      "ERROR: No matching distribution found for vadarSentiment\n"
     ]
    },
    {
     "data": {
      "text/plain": "{'full_song_score': 0.8519,\n 'word_scores': [['Yes', 0.4019],\n  ['i', 0.0],\n  ['love', 0.6369],\n  ['to', 0.0],\n  ['play', 0.34],\n  ['the', 0.0],\n  ['piano', 0.0]]}"
     },
     "execution_count": 5,
     "metadata": {},
     "output_type": "execute_result"
    }
   ],
   "source": [
    "## VADAR (Valence Aware Dictionary and sEntiment Reasoner) Analysis\n",
    "# https://github.com/cjhutto/vaderSentiment#installation\n",
    "\n",
    "!pip install vadarSentiment\n",
    "from vaderSentiment.vaderSentiment import SentimentIntensityAnalyzer\n",
    "\n",
    "\n",
    "def sentimentalyzer (lyrics):\n",
    "\n",
    "    analyzer = SentimentIntensityAnalyzer()\n",
    "    full_song_score = analyzer.polarity_scores(lyrics)['compound']\n",
    "    word_scores = []\n",
    "\n",
    "\n",
    "    for word in lyrics.split():\n",
    "        word_score = analyzer.polarity_scores(word)\n",
    "        word_scores.append([word, word_score['compound']])\n",
    "\n",
    "    return {\n",
    "        'full_song_score': full_song_score,\n",
    "        'word_scores': word_scores\n",
    "    }"
   ]
  },
  {
   "cell_type": "code",
   "execution_count": null,
   "outputs": [],
   "source": [],
   "metadata": {
    "collapsed": false,
    "pycharm": {
     "name": "#%%\n"
    }
   }
  }
 ],
 "metadata": {
  "kernelspec": {
   "display_name": "Python 3",
   "language": "python",
   "name": "python3"
  },
  "language_info": {
   "codemirror_mode": {
    "name": "ipython",
    "version": 2
   },
   "file_extension": ".py",
   "mimetype": "text/x-python",
   "name": "python",
   "nbconvert_exporter": "python",
   "pygments_lexer": "ipython2",
   "version": "2.7.6"
  }
 },
 "nbformat": 4,
 "nbformat_minor": 0
}
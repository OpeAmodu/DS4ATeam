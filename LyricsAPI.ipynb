{
 "cells": [
  {
   "cell_type": "code",
   "execution_count": 36,
   "outputs": [],
   "source": [
    "import bs4\n",
    "import requests"
   ],
   "metadata": {
    "collapsed": false,
    "pycharm": {
     "name": "#%%\n"
    }
   }
  },
  {
   "cell_type": "code",
   "execution_count": 37,
   "outputs": [
    {
     "name": "stdout",
     "output_type": "stream",
     "text": [
      "Use me I'm down here on the floor\n",
      "I don't know which way to go\n",
      "I only know I'm yours\n",
      "And I feel so self assured\n",
      "\n",
      "I'll get to you in time\n",
      "It may be a long hard climb\n",
      "But I've made up my mind\n",
      "\n",
      "I'm never gonna give you up\n",
      "Until I get you\n",
      "Never gonna give you up\n",
      "Until I get you\n",
      "\n",
      "So confused when your words tell me to go\n",
      "But your eyes say something more\n",
      "They give your love to me\n",
      "I can't the mystery\n",
      "\n",
      "You might as well decide\n",
      "It's useless to run and hide\n",
      "\n",
      "Cause I've made up my mind\n",
      "Baby it's been way too long\n",
      "Since I've held you close\n",
      "Now that I've got you in my arms again\n",
      "I ain't never gonna let you go\n",
      "\n",
      "I'm never gonna give you up\n",
      "Until I get you\n",
      "Never gonna give you up\n",
      "Until I get you\n"
     ]
    }
   ],
   "source": [
    "def format_string (term):\n",
    "    return term.replace(\" \", \"%20\")\n",
    "\n",
    "def get_song (song):\n",
    "\n",
    "    # Constructing request_url\n",
    "    base_url = 'https://www.stands4.com/services/v2/lyrics.php?'\n",
    "    uid = '8890'\n",
    "    tokenid = '6MQLtdYB62diOXDC'\n",
    "    format = 'json'\n",
    "    term = format_string(song)\n",
    "    request_url = f'{base_url}uid={uid}&tokenid={tokenid}&term={term}&format={format}'\n",
    "\n",
    "    # Make Request\n",
    "    response = requests.get(request_url).json()\n",
    "    return response\n",
    "\n",
    "def get_song_lyrics (song_link):\n",
    "\n",
    "    #Get HTML page for the song\n",
    "    response = requests.get(song_link).text\n",
    "    bs = bs4.BeautifulSoup(response)\n",
    "\n",
    "    #Return text in the <pre> tag\n",
    "    return bs.pre.get_text()\n",
    "\n",
    "\n",
    "song_link = get_song('Never Gonna Give You Up')['result'][0]['song-link']\n",
    "lyrics = get_song_lyrics(song_link)\n",
    "\n",
    "print(lyrics)"
   ],
   "metadata": {
    "collapsed": false,
    "pycharm": {
     "name": "#%%\n"
    }
   }
  },
  {
   "cell_type": "code",
   "execution_count": null,
   "outputs": [],
   "source": [],
   "metadata": {
    "collapsed": false,
    "pycharm": {
     "name": "#%%\n"
    }
   }
  }
 ],
 "metadata": {
  "kernelspec": {
   "display_name": "Python 3",
   "language": "python",
   "name": "python3"
  },
  "language_info": {
   "codemirror_mode": {
    "name": "ipython",
    "version": 2
   },
   "file_extension": ".py",
   "mimetype": "text/x-python",
   "name": "python",
   "nbconvert_exporter": "python",
   "pygments_lexer": "ipython2",
   "version": "2.7.6"
  }
 },
 "nbformat": 4,
 "nbformat_minor": 0
}
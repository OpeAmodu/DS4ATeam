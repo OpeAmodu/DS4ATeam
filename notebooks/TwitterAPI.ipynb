{
 "cells": [
  {
   "cell_type": "code",
   "execution_count": 7,
   "id": "4ba0b186",
   "metadata": {},
   "outputs": [
    {
     "name": "stdout",
     "output_type": "stream",
     "text": [
      "Collecting tweepy\n",
      "  Downloading tweepy-3.10.0-py2.py3-none-any.whl (30 kB)\n",
      "Collecting requests-oauthlib>=0.7.0\n",
      "  Downloading requests_oauthlib-1.3.0-py2.py3-none-any.whl (23 kB)\n",
      "Requirement already satisfied: six>=1.10.0 in /opt/conda/lib/python3.8/site-packages (from tweepy) (1.15.0)\n",
      "Requirement already satisfied: requests[socks]>=2.11.1 in /opt/conda/lib/python3.8/site-packages (from tweepy) (2.25.1)\n",
      "Requirement already satisfied: oauthlib>=3.0.0 in /opt/conda/lib/python3.8/site-packages (from requests-oauthlib>=0.7.0->tweepy) (3.0.1)\n",
      "Requirement already satisfied: idna<3,>=2.5 in /opt/conda/lib/python3.8/site-packages (from requests[socks]>=2.11.1->tweepy) (2.10)\n",
      "Requirement already satisfied: urllib3<1.27,>=1.21.1 in /opt/conda/lib/python3.8/site-packages (from requests[socks]>=2.11.1->tweepy) (1.26.4)\n",
      "Requirement already satisfied: certifi>=2017.4.17 in /opt/conda/lib/python3.8/site-packages (from requests[socks]>=2.11.1->tweepy) (2020.12.5)\n",
      "Requirement already satisfied: chardet<5,>=3.0.2 in /opt/conda/lib/python3.8/site-packages (from requests[socks]>=2.11.1->tweepy) (4.0.0)\n",
      "Requirement already satisfied: PySocks!=1.5.7,>=1.5.6 in /opt/conda/lib/python3.8/site-packages (from requests[socks]>=2.11.1->tweepy) (1.7.1)\n",
      "Installing collected packages: requests-oauthlib, tweepy\n",
      "Successfully installed requests-oauthlib-1.3.0 tweepy-3.10.0\n",
      "Note: you may need to restart the kernel to use updated packages.\n"
     ]
    }
   ],
   "source": [
    "pip install tweepy"
   ]
  },
  {
   "cell_type": "code",
   "execution_count": 13,
   "id": "76c355b4",
   "metadata": {},
   "outputs": [
    {
     "name": "stdout",
     "output_type": "stream",
     "text": [
      "[\"RT @ItsKyleV: My 31 year old gay ass jamming out to Olivia Rodrigo's album #Sour as if I'm a 17 year old heartbroken girl https://t.co/kEZI…\", 'RT @shybatha: caralho eu tô muito azeda! 😳\\n\\n#Fanart #SOUR #SOUROlivia #OliviaRodrigo #DigitalArtist \\n\\n🔄 + ❤️ = eu corna feliz https://t.co/…', 'RT @HITSDD: #SOUR by @Olivia_Rodrigo headed for big first week sales start https://t.co/cjkJmMSGEA https://t.co/ezF0Q5BxdG', 'RT @shybatha: caralho eu tô muito azeda! 😳\\n\\n#Fanart #SOUR #SOUROlivia #OliviaRodrigo #DigitalArtist \\n\\n🔄 + ❤️ = eu corna feliz https://t.co/…', 'RT @MsTaylorBanks: Me, without a boyfriend, without recent heartbreak, in my late twenties, listening to #SOUR. https://t.co/35113CZIi9', 'RT @shybatha: caralho eu tô muito azeda! 😳\\n\\n#Fanart #SOUR #SOUROlivia #OliviaRodrigo #DigitalArtist \\n\\n🔄 + ❤️ = eu corna feliz https://t.co/…', 'RT @oliviarodrbr: Em celebração do lançamento do #SOUR, o Olivia Rodrigo Brasil junto do @sitebaldepipoca e @bchartsnet vai sortear um CD A…', 'RT @zynwfe: good 4 u.  #SOUROlivia #SOUR https://t.co/WURhDHP4GM', \"God, it's brutal out here...\\n•\\n#flashbacksaturday #selfietime #saturdayvibes #nosmile #sour #tezzaapp #snapseed https://t.co/QaMCuJExMO\", 'Anéxenme, soy adicta a #SOUR 😭\\U0001f90c']\n"
     ]
    }
   ],
   "source": [
    "import tweepy\n",
    "auth = tweepy.AppAuthHandler('q0gbrLJyZ3TrNGKkChnsloowB', 'BqVeVzY1QhdvzRa17hNWDNtriKTNQWeAYrRJpxNrcTFCEYSnIm')\n",
    "api = tweepy.API(auth)\n",
    "tweets = []\n",
    "for tweet in tweepy.Cursor(api.search, q='#SOUR').items(100):\n",
    "    tweets.append(tweet.text)\n",
    "print(tweets)"
   ]
  },
  {
   "cell_type": "code",
   "execution_count": null,
   "id": "ce6a7a1b",
   "metadata": {},
   "outputs": [],
   "source": []
  }
 ],
 "metadata": {
  "kernelspec": {
   "display_name": "Python 3",
   "language": "python",
   "name": "python3"
  },
  "language_info": {
   "codemirror_mode": {
    "name": "ipython",
    "version": 3
   },
   "file_extension": ".py",
   "mimetype": "text/x-python",
   "name": "python",
   "nbconvert_exporter": "python",
   "pygments_lexer": "ipython3",
   "version": "3.8.8"
  }
 },
 "nbformat": 4,
 "nbformat_minor": 5
}
